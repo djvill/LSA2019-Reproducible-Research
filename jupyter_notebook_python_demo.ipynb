{
 "cells": [
  {
   "cell_type": "markdown",
   "metadata": {},
   "source": [
    "# Jupyter Notebook & Python Demo\n",
    "\n",
    "- This Notebook file can be run directly on your laptop\n",
    "- Method 1: Launch Anaconda Navigator, click Jupyter Notebook icon\n",
    "- Method 2: In a command-line environment, `cd` (change directory) into the workshop repo, then type in `jupyter notebook`"
   ]
  },
  {
   "cell_type": "markdown",
   "metadata": {},
   "source": [
    "## Getting around in Jupyter Notebook\n",
    "\n",
    "- Click `+` to create a new cell, ► to run (Also: `Ctrl+ENTER`)\n",
    "- Choose appropriate cell type (Code or Markdown)\n",
    "- `Alt+ENTER` to run cell, create a new cell below\n",
    "- `Shift+ENTER` to run cell, go to next cell\n",
    "- More on [this page](https://www.cheatography.com/weidadeyue/cheat-sheets/jupyter-notebook/)"
   ]
  },
  {
   "cell_type": "code",
   "execution_count": 1,
   "metadata": {},
   "outputs": [
    {
     "name": "stdout",
     "output_type": "stream",
     "text": [
      "Hello, world!\n"
     ]
    }
   ],
   "source": [
    "print('Hello, world!')    # printing a string"
   ]
  },
  {
   "cell_type": "code",
   "execution_count": 2,
   "metadata": {},
   "outputs": [
    {
     "data": {
      "text/plain": [
       "'Hello, world!'"
      ]
     },
     "execution_count": 2,
     "metadata": {},
     "output_type": "execute_result"
    }
   ],
   "source": [
    "'Hello, world!'           # returning a string"
   ]
  },
  {
   "cell_type": "code",
   "execution_count": 3,
   "metadata": {},
   "outputs": [
    {
     "data": {
      "text/plain": [
       "13"
      ]
     },
     "execution_count": 3,
     "metadata": {},
     "output_type": "execute_result"
    }
   ],
   "source": [
    "len('Hello, world!')"
   ]
  },
  {
   "cell_type": "code",
   "execution_count": 4,
   "metadata": {},
   "outputs": [],
   "source": [
    "import nltk              # must be imported every session"
   ]
  },
  {
   "cell_type": "code",
   "execution_count": 5,
   "metadata": {},
   "outputs": [
    {
     "name": "stdout",
     "output_type": "stream",
     "text": [
      "[nltk_data] Downloading package punkt to D:\\Lab\\nltk_data...\n",
      "[nltk_data]   Package punkt is already up-to-date!\n"
     ]
    },
    {
     "data": {
      "text/plain": [
       "True"
      ]
     },
     "execution_count": 5,
     "metadata": {},
     "output_type": "execute_result"
    }
   ],
   "source": [
    "nltk.download('punkt')       # data files needed for tokenizers\n",
    "# nltk.download('popular')   # if you have bandwidth: includes punkt\n",
    "                             # once downloaded, no need to download again, ever"
   ]
  },
  {
   "cell_type": "code",
   "execution_count": 6,
   "metadata": {},
   "outputs": [
    {
     "data": {
      "text/plain": [
       "['Hello', ',', 'world', '!']"
      ]
     },
     "execution_count": 6,
     "metadata": {},
     "output_type": "execute_result"
    }
   ],
   "source": [
    "nltk.word_tokenize('Hello, world!')"
   ]
  },
  {
   "cell_type": "code",
   "execution_count": 7,
   "metadata": {},
   "outputs": [
    {
     "data": {
      "text/plain": [
       "['Hello', ',', 'world', '!']"
      ]
     },
     "execution_count": 7,
     "metadata": {},
     "output_type": "execute_result"
    }
   ],
   "source": [
    "words = nltk.word_tokenize('Hello, world!')\n",
    "words"
   ]
  },
  {
   "cell_type": "code",
   "execution_count": 8,
   "metadata": {},
   "outputs": [
    {
     "name": "stdout",
     "output_type": "stream",
     "text": [
      "Help on function word_tokenize in module nltk.tokenize:\n",
      "\n",
      "word_tokenize(text, language='english', preserve_line=False)\n",
      "    Return a tokenized copy of *text*,\n",
      "    using NLTK's recommended word tokenizer\n",
      "    (currently an improved :class:`.TreebankWordTokenizer`\n",
      "    along with :class:`.PunktSentenceTokenizer`\n",
      "    for the specified language).\n",
      "    \n",
      "    :param text: text to split into words\n",
      "    :type text: str\n",
      "    :param language: the model name in the Punkt corpus\n",
      "    :type language: str\n",
      "    :param preserve_line: An option to keep the preserve the sentence and not sentence tokenize it.\n",
      "    :type preserver_line: bool\n",
      "\n"
     ]
    }
   ],
   "source": [
    "help(nltk.word_tokenize)"
   ]
  },
  {
   "cell_type": "code",
   "execution_count": 9,
   "metadata": {},
   "outputs": [
    {
     "data": {
      "text/plain": [
       "4"
      ]
     },
     "execution_count": 9,
     "metadata": {},
     "output_type": "execute_result"
    }
   ],
   "source": [
    "len(words)"
   ]
  },
  {
   "cell_type": "code",
   "execution_count": 10,
   "metadata": {},
   "outputs": [
    {
     "data": {
      "text/plain": [
       "['You', 'have', \"n't\", 'seen', 'Star', 'Wars', '...', '?']"
      ]
     },
     "execution_count": 10,
     "metadata": {},
     "output_type": "execute_result"
    }
   ],
   "source": [
    "sent = \"You haven't seen Star Wars...?\"\n",
    "nltk.word_tokenize(sent)"
   ]
  },
  {
   "cell_type": "code",
   "execution_count": 11,
   "metadata": {},
   "outputs": [],
   "source": [
    "from matplotlib import pyplot as plt"
   ]
  },
  {
   "cell_type": "code",
   "execution_count": 12,
   "metadata": {},
   "outputs": [
    {
     "data": {
      "image/png": "[encoded data removed]",
      "text/plain": [
       "<Figure size 432x288 with 1 Axes>"
      ]
     },
     "metadata": {},
     "output_type": "display_data"
    }
   ],
   "source": [
    "# number of speakers in million\n",
    "plt.bar(['Zulu', 'German', 'Polish'], [10, 100, 45])\n",
    "plt.show()"
   ]
  },
  {
   "cell_type": "markdown",
   "metadata": {},
   "source": [
    "## Why Jupyter Notebook\n",
    "JNB lets us weave together 4 essential components into a single document: \n",
    "  1. Python code\n",
    "  2. code output (`print`, returned values, etc.)\n",
    "  3. visualization through in-line plots\n",
    "  4. narration and documentation as Markdown cells\n",
    "\n",
    "\n",
    "Additionally, it is good practice to make a point of **showing the \"data\"**:\n",
    "  5. Data itself: snippets, examples\n",
    "  6. The process in which data gets cleaned and transformed\n",
    "\n",
    "#### Benefits\n",
    "- The resulting Notebook document presents a **complete picture of \"code as research\"**\n",
    "- The Notebook document is live code that can be run by anyone: easy **reproducibility**\n",
    "- **Sharability**: [GitHub](https://www.github.com) and other online platforms not only hosts but renders Notebook documents in easily readable and browsable form  \n"
   ]
  },
  {
   "cell_type": "markdown",
   "metadata": {},
   "source": [
    "## Processing the Gettysburg Address\n",
    "- Let's process Abraham Lincoln's Gettysburg address, already in the `data` directory"
   ]
  },
  {
   "cell_type": "code",
   "execution_count": 13,
   "metadata": {},
   "outputs": [
    {
     "data": {
      "text/plain": [
       "'Four score and seven years ago our fathers brought forth on this continent a new nation, conceived in liberty, and dedicated to the proposition that all men are created equal.\\n\\nNow we are engaged in a great civil war, testing whether that nation, or any nation, so conceived and so dedicated, can long endure. We are met on a great battle-field of that war. We have come to dedicate a portion of that field, as a final resting place for those who here gave their lives that that nation might live. It is altogether fitting and proper that we should do this.\\n\\nBut, in a larger sense, we can not dedicate, we can not consecrate, we can not hallow this ground. The brave men, living and dead, who struggled here, have consecrated it, far above our poor power to add or detract. The world will little note, nor long remember what we say here, but it can never forget what they did here. It is for us the living, rather, to be dedicated here to the unfinished work which they who fought here have thus far so nobly advanced. It is rather for us to be here dedicated to the great task remaining before us - that from these honored dead we take increased devotion to that cause for which they gave the last full measure of devotion - that we here highly resolve that these dead shall not have died in vain - that this nation, under God, shall have a new birth of freedom - and that government of the people, by the people, for the people, shall not perish from the earth.\\n'"
      ]
     },
     "execution_count": 13,
     "metadata": {},
     "output_type": "execute_result"
    }
   ],
   "source": [
    "gfile = 'data/1863-Gettysburg Address.txt'\n",
    "gtxt = open(gfile).read()\n",
    "gtxt"
   ]
  },
  {
   "cell_type": "code",
   "execution_count": 14,
   "metadata": {},
   "outputs": [
    {
     "name": "stdout",
     "output_type": "stream",
     "text": [
      "Four score and seven years ago our fathers brought forth on this continent a new nation, conceived in liberty, and dedicated to the proposition that all men are created equal.\n",
      "\n",
      "Now we are engaged in a great civil war, testing whether that nation, or any nation, so conceived and so dedicated, can long endure. We are met on a great battle-field of that war. We have come to dedicate a portion of that field, as a final resting place for those who here gave their lives that that nation might live. It is altogether fitting and proper that we should do this.\n",
      "\n",
      "But, in a larger sense, we can not dedicate, we can not consecrate, we can not hallow this ground. The brave men, living and dead, who struggled here, have consecrated it, far above our poor power to add or detract. The world will little note, nor long remember what we say here, but it can never forget what they did here. It is for us the living, rather, to be dedicated here to the unfinished work which they who fought here have thus far so nobly advanced. It is rather for us to be here dedicated to the great task remaining before us - that from these honored dead we take increased devotion to that cause for which they gave the last full measure of devotion - that we here highly resolve that these dead shall not have died in vain - that this nation, under God, shall have a new birth of freedom - and that government of the people, by the people, for the people, shall not perish from the earth.\n",
      "\n"
     ]
    }
   ],
   "source": [
    "print(gtxt)"
   ]
  },
  {
   "cell_type": "code",
   "execution_count": 15,
   "metadata": {},
   "outputs": [
    {
     "data": {
      "text/plain": [
       "1465"
      ]
     },
     "execution_count": 15,
     "metadata": {},
     "output_type": "execute_result"
    }
   ],
   "source": [
    "len(gtxt)"
   ]
  },
  {
   "cell_type": "code",
   "execution_count": 16,
   "metadata": {},
   "outputs": [
    {
     "name": "stdout",
     "output_type": "stream",
     "text": [
      "Pretty printing has been turned OFF\n"
     ]
    }
   ],
   "source": [
    "# JNB by default has \"pretty printing\" turned on, which prints list items in separate lines. \n",
    "# Toggle it off. \n",
    "%pprint"
   ]
  },
  {
   "cell_type": "markdown",
   "metadata": {},
   "source": [
    "### Type vs. token, TTR\n",
    "- *Tokens* are individual instances of linguistic units. \n",
    "- *Types* are unique classes found in the tokens. \n",
    "- *TTR* (\"type-token ratio\") is a measure of vocabulary richness (with a huge caveat)"
   ]
  },
  {
   "cell_type": "code",
   "execution_count": 17,
   "metadata": {},
   "outputs": [
    {
     "data": {
      "text/plain": [
       "['Four', 'score', 'and', 'seven', 'years', 'ago', 'our', 'fathers', 'brought', 'forth', 'on', 'this', 'continent', 'a', 'new', 'nation', ',', 'conceived', 'in', 'liberty', ',', 'and', 'dedicated', 'to', 'the', 'proposition', 'that', 'all', 'men', 'are', 'created', 'equal', '.', 'Now', 'we', 'are', 'engaged', 'in', 'a', 'great', 'civil', 'war', ',', 'testing', 'whether', 'that', 'nation', ',', 'or', 'any', 'nation', ',', 'so', 'conceived', 'and', 'so', 'dedicated', ',', 'can', 'long', 'endure', '.', 'We', 'are', 'met', 'on', 'a', 'great', 'battle-field', 'of', 'that', 'war', '.', 'We', 'have', 'come', 'to', 'dedicate', 'a', 'portion', 'of', 'that', 'field', ',', 'as', 'a', 'final', 'resting', 'place', 'for', 'those', 'who', 'here', 'gave', 'their', 'lives', 'that', 'that', 'nation', 'might', 'live', '.', 'It', 'is', 'altogether', 'fitting', 'and', 'proper', 'that', 'we', 'should', 'do', 'this', '.', 'But', ',', 'in', 'a', 'larger', 'sense', ',', 'we', 'can', 'not', 'dedicate', ',', 'we', 'can', 'not', 'consecrate', ',', 'we', 'can', 'not', 'hallow', 'this', 'ground', '.', 'The', 'brave', 'men', ',', 'living', 'and', 'dead', ',', 'who', 'struggled', 'here', ',', 'have', 'consecrated', 'it', ',', 'far', 'above', 'our', 'poor', 'power', 'to', 'add', 'or', 'detract', '.', 'The', 'world', 'will', 'little', 'note', ',', 'nor', 'long', 'remember', 'what', 'we', 'say', 'here', ',', 'but', 'it', 'can', 'never', 'forget', 'what', 'they', 'did', 'here', '.', 'It', 'is', 'for', 'us', 'the', 'living', ',', 'rather', ',', 'to', 'be', 'dedicated', 'here', 'to', 'the', 'unfinished', 'work', 'which', 'they', 'who', 'fought', 'here', 'have', 'thus', 'far', 'so', 'nobly', 'advanced', '.', 'It', 'is', 'rather', 'for', 'us', 'to', 'be', 'here', 'dedicated', 'to', 'the', 'great', 'task', 'remaining', 'before', 'us', '-', 'that', 'from', 'these', 'honored', 'dead', 'we', 'take', 'increased', 'devotion', 'to', 'that', 'cause', 'for', 'which', 'they', 'gave', 'the', 'last', 'full', 'measure', 'of', 'devotion', '-', 'that', 'we', 'here', 'highly', 'resolve', 'that', 'these', 'dead', 'shall', 'not', 'have', 'died', 'in', 'vain', '-', 'that', 'this', 'nation', ',', 'under', 'God', ',', 'shall', 'have', 'a', 'new', 'birth', 'of', 'freedom', '-', 'and', 'that', 'government', 'of', 'the', 'people', ',', 'by', 'the', 'people', ',', 'for', 'the', 'people', ',', 'shall', 'not', 'perish', 'from', 'the', 'earth', '.']"
      ]
     },
     "execution_count": 17,
     "metadata": {},
     "output_type": "execute_result"
    }
   ],
   "source": [
    "gtoks = nltk.word_tokenize(gtxt)\n",
    "gtoks"
   ]
  },
  {
   "cell_type": "code",
   "execution_count": 18,
   "metadata": {},
   "outputs": [
    {
     "data": {
      "text/plain": [
       "309"
      ]
     },
     "execution_count": 18,
     "metadata": {},
     "output_type": "execute_result"
    }
   ],
   "source": [
    "len(gtoks)"
   ]
  },
  {
   "cell_type": "code",
   "execution_count": 19,
   "metadata": {},
   "outputs": [
    {
     "data": {
      "text/plain": [
       "{1, 2, 3, 4}"
      ]
     },
     "execution_count": 19,
     "metadata": {},
     "output_type": "execute_result"
    }
   ],
   "source": [
    "set([1, 2, 2, 3, 2, 3, 4, 1, 2, 3])"
   ]
  },
  {
   "cell_type": "code",
   "execution_count": 20,
   "metadata": {},
   "outputs": [
    {
     "data": {
      "text/plain": [
       "{'what', 'are', 'liberty', 'rather', 'perish', 'battle-field', 'unfinished', 'cause', 'portion', 'testing', 'of', 'altogether', 'god', 'from', 'highly', 'created', 'live', 'nor', 'work', 'above', 'people', 'seven', 'continent', 'lives', 'on', 'ground', 'did', 'remaining', 'here', 'should', 'task', 'increased', 'vain', 'all', 'come', 'full', 'in', 'resolve', 'by', 'proposition', 'place', ',', 'but', 'thus', 'to', 'larger', 'fathers', 'this', 'as', 'those', 'they', 'civil', '-', 'government', 'sense', 'us', 'fought', 'freedom', 'fitting', 'brave', 'four', 'war', 'whether', 'we', 'and', 'say', 'any', 'honored', 'do', 'field', 'their', 'might', 'engaged', 'these', 'detract', 'ago', 'proper', 'consecrate', 'final', 'equal', 'under', 'men', 'nobly', 'dedicated', 'struggled', 'dedicate', 'nation', 'will', 'birth', 'a', 'note', 'who', 'died', 'hallow', 'earth', 'not', 'now', 'long', 'little', 'be', 'advanced', 'forget', 'poor', 'before', 'brought', 'score', 'our', 'or', 'the', 'great', 'conceived', 'shall', 'take', 'power', 'devotion', 'never', 'forth', 'remember', 'which', 'measure', 'endure', 'last', 'living', 'add', 'met', 'resting', 'far', 'consecrated', 'dead', 'have', '.', 'so', 'world', 'it', 'can', 'for', 'that', 'gave', 'is', 'years', 'new'}"
      ]
     },
     "execution_count": 20,
     "metadata": {},
     "output_type": "execute_result"
    }
   ],
   "source": [
    "# list comprehension: returns a new list where each item is transformed\n",
    "gtypes = set([w.lower() for w in gtoks])  \n",
    "gtypes"
   ]
  },
  {
   "cell_type": "code",
   "execution_count": 21,
   "metadata": {},
   "outputs": [
    {
     "data": {
      "text/plain": [
       "141"
      ]
     },
     "execution_count": 21,
     "metadata": {},
     "output_type": "execute_result"
    }
   ],
   "source": [
    "len(gtypes)"
   ]
  },
  {
   "cell_type": "code",
   "execution_count": 22,
   "metadata": {},
   "outputs": [
    {
     "data": {
      "text/plain": [
       "0.4563106796116505"
      ]
     },
     "execution_count": 22,
     "metadata": {},
     "output_type": "execute_result"
    }
   ],
   "source": [
    "gttr = len(gtypes)/len(gtoks)\n",
    "gttr"
   ]
  },
  {
   "cell_type": "markdown",
   "metadata": {},
   "source": [
    "### Average sentence length\n",
    "- NLTK has a handy sentence tokenizer: `nltk.sent_tokenize()`"
   ]
  },
  {
   "cell_type": "code",
   "execution_count": 23,
   "metadata": {},
   "outputs": [
    {
     "data": {
      "text/plain": [
       "['Hello, world!', 'I come in peace.']"
      ]
     },
     "execution_count": 23,
     "metadata": {},
     "output_type": "execute_result"
    }
   ],
   "source": [
    "# sentence tokenization\n",
    "nltk.sent_tokenize(\"Hello, world! I come in peace.\")"
   ]
  },
  {
   "cell_type": "code",
   "execution_count": 24,
   "metadata": {},
   "outputs": [
    {
     "data": {
      "text/plain": [
       "['Four score and seven years ago our fathers brought forth on this continent a new nation, conceived in liberty, and dedicated to the proposition that all men are created equal.', 'Now we are engaged in a great civil war, testing whether that nation, or any nation, so conceived and so dedicated, can long endure.', 'We are met on a great battle-field of that war.', 'We have come to dedicate a portion of that field, as a final resting place for those who here gave their lives that that nation might live.', 'It is altogether fitting and proper that we should do this.', 'But, in a larger sense, we can not dedicate, we can not consecrate, we can not hallow this ground.', 'The brave men, living and dead, who struggled here, have consecrated it, far above our poor power to add or detract.', 'The world will little note, nor long remember what we say here, but it can never forget what they did here.', 'It is for us the living, rather, to be dedicated here to the unfinished work which they who fought here have thus far so nobly advanced.', 'It is rather for us to be here dedicated to the great task remaining before us - that from these honored dead we take increased devotion to that cause for which they gave the last full measure of devotion - that we here highly resolve that these dead shall not have died in vain - that this nation, under God, shall have a new birth of freedom - and that government of the people, by the people, for the people, shall not perish from the earth.']"
      ]
     },
     "execution_count": 24,
     "metadata": {},
     "output_type": "execute_result"
    }
   ],
   "source": [
    "gsents = nltk.sent_tokenize(gtxt)\n",
    "gsents"
   ]
  },
  {
   "cell_type": "code",
   "execution_count": 25,
   "metadata": {},
   "outputs": [
    {
     "data": {
      "text/plain": [
       "'We have come to dedicate a portion of that field, as a final resting place for those who here gave their lives that that nation might live.'"
      ]
     },
     "execution_count": 25,
     "metadata": {},
     "output_type": "execute_result"
    }
   ],
   "source": [
    "gsents[3]"
   ]
  },
  {
   "cell_type": "code",
   "execution_count": 26,
   "metadata": {},
   "outputs": [
    {
     "data": {
      "text/plain": [
       "'It is rather for us to be here dedicated to the great task remaining before us - that from these honored dead we take increased devotion to that cause for which they gave the last full measure of devotion - that we here highly resolve that these dead shall not have died in vain - that this nation, under God, shall have a new birth of freedom - and that government of the people, by the people, for the people, shall not perish from the earth.'"
      ]
     },
     "execution_count": 26,
     "metadata": {},
     "output_type": "execute_result"
    }
   ],
   "source": [
    "gsents[-1]"
   ]
  },
  {
   "cell_type": "code",
   "execution_count": 27,
   "metadata": {},
   "outputs": [
    {
     "data": {
      "text/plain": [
       "10"
      ]
     },
     "execution_count": 27,
     "metadata": {},
     "output_type": "execute_result"
    }
   ],
   "source": [
    "len(gsents)"
   ]
  },
  {
   "cell_type": "code",
   "execution_count": 28,
   "metadata": {},
   "outputs": [
    {
     "data": {
      "text/plain": [
       "30.9"
      ]
     },
     "execution_count": 28,
     "metadata": {},
     "output_type": "execute_result"
    }
   ],
   "source": [
    "# Average sentence length\n",
    "gsentlen = len(gtoks)/len(gsents)\n",
    "gsentlen"
   ]
  },
  {
   "cell_type": "markdown",
   "metadata": {},
   "source": [
    "### Word frequency \n",
    "- `nltk.FreqDist()` builds a frequency distribution. Pass tokenized words. "
   ]
  },
  {
   "cell_type": "code",
   "execution_count": 29,
   "metadata": {},
   "outputs": [
    {
     "data": {
      "text/plain": [
       "[(',', 24), ('that', 13), ('.', 10), ('the', 9), ('to', 8), ('we', 8), ('here', 8), ('a', 7), ('and', 6), ('nation', 5), ('can', 5), ('of', 5), ('have', 5), ('for', 5), ('not', 5), ('this', 4), ('in', 4), ('dedicated', 4), ('-', 4), ('are', 3), ('great', 3), ('so', 3), ('who', 3), ('It', 3), ('is', 3), ('dead', 3), ('they', 3), ('us', 3), ('shall', 3), ('people', 3), ('our', 2), ('on', 2), ('new', 2), ('conceived', 2), ('men', 2), ('war', 2), ('or', 2), ('long', 2), ('We', 2), ('dedicate', 2), ('gave', 2), ('The', 2), ('living', 2), ('it', 2), ('far', 2), ('what', 2), ('rather', 2), ('be', 2), ('which', 2), ('from', 2), ('these', 2), ('devotion', 2), ('Four', 1), ('score', 1), ('seven', 1), ('years', 1), ('ago', 1), ('fathers', 1), ('brought', 1), ('forth', 1), ('continent', 1), ('liberty', 1), ('proposition', 1), ('all', 1), ('created', 1), ('equal', 1), ('Now', 1), ('engaged', 1), ('civil', 1), ('testing', 1), ('whether', 1), ('any', 1), ('endure', 1), ('met', 1), ('battle-field', 1), ('come', 1), ('portion', 1), ('field', 1), ('as', 1), ('final', 1), ('resting', 1), ('place', 1), ('those', 1), ('their', 1), ('lives', 1), ('might', 1), ('live', 1), ('altogether', 1), ('fitting', 1), ('proper', 1), ('should', 1), ('do', 1), ('But', 1), ('larger', 1), ('sense', 1), ('consecrate', 1), ('hallow', 1), ('ground', 1), ('brave', 1), ('struggled', 1), ('consecrated', 1), ('above', 1), ('poor', 1), ('power', 1), ('add', 1), ('detract', 1), ('world', 1), ('will', 1), ('little', 1), ('note', 1), ('nor', 1), ('remember', 1), ('say', 1), ('but', 1), ('never', 1), ('forget', 1), ('did', 1), ('unfinished', 1), ('work', 1), ('fought', 1), ('thus', 1), ('nobly', 1), ('advanced', 1), ('task', 1), ('remaining', 1), ('before', 1), ('honored', 1), ('take', 1), ('increased', 1), ('cause', 1), ('last', 1), ('full', 1), ('measure', 1), ('highly', 1), ('resolve', 1), ('died', 1), ('vain', 1), ('under', 1), ('God', 1), ('birth', 1), ('freedom', 1), ('government', 1), ('by', 1), ('perish', 1), ('earth', 1)]"
      ]
     },
     "execution_count": 29,
     "metadata": {},
     "output_type": "execute_result"
    }
   ],
   "source": [
    "gfd = nltk.FreqDist(gtoks)\n",
    "gfd.most_common()"
   ]
  },
  {
   "cell_type": "code",
   "execution_count": 30,
   "metadata": {},
   "outputs": [
    {
     "data": {
      "text/plain": [
       "[(',', 24), ('that', 13), ('.', 10), ('the', 9), ('to', 8), ('we', 8), ('here', 8), ('a', 7), ('and', 6), ('nation', 5)]"
      ]
     },
     "execution_count": 30,
     "metadata": {},
     "output_type": "execute_result"
    }
   ],
   "source": [
    "gfd.most_common(10)"
   ]
  },
  {
   "cell_type": "code",
   "execution_count": 31,
   "metadata": {},
   "outputs": [
    {
     "data": {
      "text/plain": [
       "3"
      ]
     },
     "execution_count": 31,
     "metadata": {},
     "output_type": "execute_result"
    }
   ],
   "source": [
    "gfd['people']"
   ]
  },
  {
   "cell_type": "code",
   "execution_count": 32,
   "metadata": {},
   "outputs": [
    {
     "data": {
      "text/plain": [
       "0.02912621359223301"
      ]
     },
     "execution_count": 32,
     "metadata": {},
     "output_type": "execute_result"
    }
   ],
   "source": [
    "# relative frequency\n",
    "gfd.freq('the')"
   ]
  },
  {
   "cell_type": "code",
   "execution_count": 33,
   "metadata": {},
   "outputs": [
    {
     "data": {
      "text/plain": [
       "[0.042071197411003236, 0.02912621359223301, 0.025889967637540454, 0.025889967637540454, 0.025889967637540454, 0.022653721682847898, 0.019417475728155338, 0.016181229773462782, 0.016181229773462782]"
      ]
     },
     "execution_count": 33,
     "metadata": {},
     "output_type": "execute_result"
    }
   ],
   "source": [
    "top_words = ['that', 'the', 'to', 'we', 'here', 'a', 'and', 'nation', 'of']\n",
    "top_gfreq = [gfd.freq(w) for w in top_words]\n",
    "top_gfreq"
   ]
  },
  {
   "cell_type": "code",
   "execution_count": 34,
   "metadata": {},
   "outputs": [
    {
     "data": {
      "image/png": "[encoded data removed]",
      "text/plain": [
       "<Figure size 432x288 with 1 Axes>"
      ]
     },
     "metadata": {},
     "output_type": "display_data"
    }
   ],
   "source": [
    "#plt.plot(top_words, top_gfreq)\n",
    "plt.bar(top_words, top_gfreq)\n",
    "plt.show()"
   ]
  },
  {
   "cell_type": "markdown",
   "metadata": {},
   "source": [
    "### Side experiment: non-symbol words only\n",
    "- `gtoks` and its frequency distribution contains punctuation and symbols\n",
    "- How to exclude them? "
   ]
  },
  {
   "cell_type": "code",
   "execution_count": 35,
   "metadata": {},
   "outputs": [
    {
     "data": {
      "text/plain": [
       "['Colorless', 'green', 'ideas', ',', 'let', \"'s\", 'sleep', 'furiously', '!']"
      ]
     },
     "execution_count": 35,
     "metadata": {},
     "output_type": "execute_result"
    }
   ],
   "source": [
    "chom = \"Colorless green ideas, let's sleep furiously!\"\n",
    "chomtoks = nltk.word_tokenize(chom)\n",
    "chomtoks"
   ]
  },
  {
   "cell_type": "code",
   "execution_count": 36,
   "metadata": {},
   "outputs": [
    {
     "data": {
      "text/plain": [
       "['colorless', 'green', 'ideas', ',', 'let', \"'s\", 'sleep', 'furiously', '!']"
      ]
     },
     "execution_count": 36,
     "metadata": {},
     "output_type": "execute_result"
    }
   ],
   "source": [
    "[w.lower() for w in chomtoks]"
   ]
  },
  {
   "cell_type": "code",
   "execution_count": 37,
   "metadata": {},
   "outputs": [
    {
     "data": {
      "text/plain": [
       "['COLORLESS', 'FURIOUSLY']"
      ]
     },
     "execution_count": 37,
     "metadata": {},
     "output_type": "execute_result"
    }
   ],
   "source": [
    "[w.upper() for w in chomtoks if len(w) >= 7]"
   ]
  },
  {
   "cell_type": "code",
   "execution_count": 38,
   "metadata": {},
   "outputs": [
    {
     "data": {
      "text/plain": [
       "True"
      ]
     },
     "execution_count": 38,
     "metadata": {},
     "output_type": "execute_result"
    }
   ],
   "source": [
    "\"hello\".isalpha()"
   ]
  },
  {
   "cell_type": "code",
   "execution_count": 39,
   "metadata": {},
   "outputs": [
    {
     "data": {
      "text/plain": [
       "False"
      ]
     },
     "execution_count": 39,
     "metadata": {},
     "output_type": "execute_result"
    }
   ],
   "source": [
    "\".\".isalpha()"
   ]
  },
  {
   "cell_type": "code",
   "execution_count": 40,
   "metadata": {},
   "outputs": [
    {
     "data": {
      "text/plain": [
       "['Colorless', 'green', 'ideas', 'let', 'sleep', 'furiously']"
      ]
     },
     "execution_count": 40,
     "metadata": {},
     "output_type": "execute_result"
    }
   ],
   "source": [
    "[w for w in chomtoks if w.isalpha()]"
   ]
  },
  {
   "cell_type": "code",
   "execution_count": 41,
   "metadata": {},
   "outputs": [],
   "source": [
    "gtoks_alpha = [w for w in gtoks if w.isalpha()]"
   ]
  },
  {
   "cell_type": "code",
   "execution_count": 42,
   "metadata": {},
   "outputs": [
    {
     "data": {
      "text/plain": [
       "['Four', 'score', 'and', 'seven', 'years', 'ago', 'our', 'fathers', 'brought', 'forth', 'on', 'this', 'continent', 'a', 'new', 'nation', 'conceived', 'in', 'liberty', 'and', 'dedicated', 'to', 'the', 'proposition', 'that', 'all', 'men', 'are', 'created', 'equal', 'Now', 'we', 'are', 'engaged', 'in', 'a', 'great', 'civil', 'war', 'testing', 'whether', 'that', 'nation', 'or', 'any', 'nation', 'so', 'conceived', 'and', 'so', 'dedicated', 'can', 'long', 'endure', 'We', 'are', 'met', 'on', 'a', 'great', 'of', 'that', 'war', 'We', 'have', 'come', 'to', 'dedicate', 'a', 'portion', 'of', 'that', 'field', 'as', 'a', 'final', 'resting', 'place', 'for', 'those', 'who', 'here', 'gave', 'their', 'lives', 'that', 'that', 'nation', 'might', 'live', 'It', 'is', 'altogether', 'fitting', 'and', 'proper', 'that', 'we', 'should', 'do', 'this', 'But', 'in', 'a', 'larger', 'sense', 'we', 'can', 'not', 'dedicate', 'we', 'can', 'not', 'consecrate', 'we', 'can', 'not', 'hallow', 'this', 'ground', 'The', 'brave', 'men', 'living', 'and', 'dead', 'who', 'struggled', 'here', 'have', 'consecrated', 'it', 'far', 'above', 'our', 'poor', 'power', 'to', 'add', 'or', 'detract', 'The', 'world', 'will', 'little', 'note', 'nor', 'long', 'remember', 'what', 'we', 'say', 'here', 'but', 'it', 'can', 'never', 'forget', 'what', 'they', 'did', 'here', 'It', 'is', 'for', 'us', 'the', 'living', 'rather', 'to', 'be', 'dedicated', 'here', 'to', 'the', 'unfinished', 'work', 'which', 'they', 'who', 'fought', 'here', 'have', 'thus', 'far', 'so', 'nobly', 'advanced', 'It', 'is', 'rather', 'for', 'us', 'to', 'be', 'here', 'dedicated', 'to', 'the', 'great', 'task', 'remaining', 'before', 'us', 'that', 'from', 'these', 'honored', 'dead', 'we', 'take', 'increased', 'devotion', 'to', 'that', 'cause', 'for', 'which', 'they', 'gave', 'the', 'last', 'full', 'measure', 'of', 'devotion', 'that', 'we', 'here', 'highly', 'resolve', 'that', 'these', 'dead', 'shall', 'not', 'have', 'died', 'in', 'vain', 'that', 'this', 'nation', 'under', 'God', 'shall', 'have', 'a', 'new', 'birth', 'of', 'freedom', 'and', 'that', 'government', 'of', 'the', 'people', 'by', 'the', 'people', 'for', 'the', 'people', 'shall', 'not', 'perish', 'from', 'the', 'earth']"
      ]
     },
     "execution_count": 42,
     "metadata": {},
     "output_type": "execute_result"
    }
   ],
   "source": [
    "gtoks_alpha"
   ]
  },
  {
   "cell_type": "code",
   "execution_count": 43,
   "metadata": {},
   "outputs": [],
   "source": [
    "gfd_alpha = nltk.FreqDist(gtoks_alpha)"
   ]
  },
  {
   "cell_type": "code",
   "execution_count": 44,
   "metadata": {
    "scrolled": true
   },
   "outputs": [
    {
     "data": {
      "text/plain": [
       "[('that', 13), ('the', 9), ('to', 8), ('we', 8), ('here', 8), ('a', 7), ('and', 6), ('nation', 5), ('can', 5), ('of', 5), ('have', 5), ('for', 5), ('not', 5), ('this', 4), ('in', 4), ('dedicated', 4), ('are', 3), ('great', 3), ('so', 3), ('who', 3)]"
      ]
     },
     "execution_count": 44,
     "metadata": {},
     "output_type": "execute_result"
    }
   ],
   "source": [
    "gfd_alpha.most_common(20)"
   ]
  },
  {
   "cell_type": "markdown",
   "metadata": {},
   "source": [
    "### Summary: the Gettysburg Address \n",
    "- 309 word tokens and 141 word types\n",
    "- TTR: 0.4563\n",
    "- 10 sentences\n",
    "- Average sentence length: 30.9 words per sentence\n",
    "- Top words include 'that', 'the', 'to', 'we', 'here', 'a', etc. \n",
    "\n",
    "NB: punctuation and symbols were included in the token count and the average sentence length. "
   ]
  },
  {
   "cell_type": "markdown",
   "metadata": {},
   "source": [
    "## Your turn: \"I Have A Dream\" by Martin Luther King Jr. \n",
    "- Longer or shorter than \"Gettysburg address\"?\n",
    "- TTR?\n",
    "- Average sentence length: longer or shorter?\n",
    "- Top words and their frequencies: difference?"
   ]
  },
  {
   "cell_type": "code",
   "execution_count": 45,
   "metadata": {},
   "outputs": [
    {
     "data": {
      "text/plain": [
       "'I Have A Dream\\n\\nby Dr. Martin Luther King Jr.\\n\\nDelivered on the steps at the Lincoln Memorial\\nin Washington D.C. on August 28, 1963\\n\\nI am happy to join with you today in what will go down in history as the greatest demonstration for freedom in the history of our nation.\\n\\nFive score years ago, a great American, in whose symbolic shadow we stand signed the Emancipation Proclamation. This momentous decree came as a great beacon light of hope to millions of Negro slaves who had been seared in the fl'"
      ]
     },
     "execution_count": 45,
     "metadata": {},
     "output_type": "execute_result"
    }
   ],
   "source": [
    "kfile = 'data/1963-I Have a Dream.txt'\n",
    "ktxt = open(kfile).read()\n",
    "ktxt[:500]  # first 500 characters. "
   ]
  },
  {
   "cell_type": "code",
   "execution_count": 46,
   "metadata": {},
   "outputs": [
    {
     "data": {
      "text/plain": [
       "'ing from every hill and every molehill of Mississippi. From every mountainside, let freedom ring.\\n\\nWhen we let freedom ring, when we let it ring from every village and every hamlet, from every state and every city, we will be able to speed up that day when all of God\\'s children, black men and white men, Jews and Gentiles, Protestants and Catholics, will be able to join hands and sing in the words of the old Negro spiritual, \"Free at last! free at last! thank God Almighty, we are free at last!\"\\n\\n'"
      ]
     },
     "execution_count": 46,
     "metadata": {},
     "output_type": "execute_result"
    }
   ],
   "source": [
    "ktxt[-500:]  # last 500 characters  "
   ]
  },
  {
   "cell_type": "code",
   "execution_count": 47,
   "metadata": {},
   "outputs": [],
   "source": [
    "# (1) build a list of word tokens\n",
    "# (2) build a set of word types\n",
    "#   from (1) & (2), compute TTR\n",
    "# (3) build a list of tokenized sentences\n",
    "#   from (1) and (3), compute average sentence length\n",
    "# (4) build a word frequency distribution, from (1) "
   ]
  },
  {
   "cell_type": "code",
   "execution_count": 48,
   "metadata": {},
   "outputs": [
    {
     "data": {
      "text/plain": [
       "['I', 'Have', 'A', 'Dream', 'by', 'Dr.', 'Martin', 'Luther', 'King', 'Jr', '.', 'Delivered', 'on', 'the', 'steps', 'at', 'the', 'Lincoln', 'Memorial', 'in']"
      ]
     },
     "execution_count": 48,
     "metadata": {},
     "output_type": "execute_result"
    }
   ],
   "source": [
    "ktoks = nltk.word_tokenize(ktxt)\n",
    "ktoks[:20]    # show first 20 tokens"
   ]
  },
  {
   "cell_type": "code",
   "execution_count": 49,
   "metadata": {},
   "outputs": [
    {
     "data": {
      "text/plain": [
       "1772"
      ]
     },
     "execution_count": 49,
     "metadata": {},
     "output_type": "execute_result"
    }
   ],
   "source": [
    "len(ktoks)"
   ]
  },
  {
   "cell_type": "code",
   "execution_count": 50,
   "metadata": {},
   "outputs": [
    {
     "data": {
      "text/plain": [
       "540"
      ]
     },
     "execution_count": 50,
     "metadata": {},
     "output_type": "execute_result"
    }
   ],
   "source": [
    "ktypes = set([w.lower() for w in ktoks])  \n",
    "len(ktypes)"
   ]
  },
  {
   "cell_type": "code",
   "execution_count": 51,
   "metadata": {},
   "outputs": [
    {
     "data": {
      "text/plain": [
       "0.3047404063205418"
      ]
     },
     "execution_count": 51,
     "metadata": {},
     "output_type": "execute_result"
    }
   ],
   "source": [
    "kttr = len(ktypes)/len(ktoks)\n",
    "kttr"
   ]
  },
  {
   "cell_type": "code",
   "execution_count": 52,
   "metadata": {},
   "outputs": [
    {
     "data": {
      "text/plain": [
       "['When we let freedom ring, when we let it ring from every village and every hamlet, from every state and every city, we will be able to speed up that day when all of God\\'s children, black men and white men, Jews and Gentiles, Protestants and Catholics, will be able to join hands and sing in the words of the old Negro spiritual, \"Free at last!', 'free at last!', 'thank God Almighty, we are free at last!\"']"
      ]
     },
     "execution_count": 52,
     "metadata": {},
     "output_type": "execute_result"
    }
   ],
   "source": [
    "ksents = nltk.sent_tokenize(ktxt)\n",
    "ksents[-3:]  # last 3 sentences"
   ]
  },
  {
   "cell_type": "code",
   "execution_count": 53,
   "metadata": {},
   "outputs": [
    {
     "data": {
      "text/plain": [
       "81"
      ]
     },
     "execution_count": 53,
     "metadata": {},
     "output_type": "execute_result"
    }
   ],
   "source": [
    "len(ksents)"
   ]
  },
  {
   "cell_type": "code",
   "execution_count": 54,
   "metadata": {},
   "outputs": [
    {
     "data": {
      "text/plain": [
       "21.876543209876544"
      ]
     },
     "execution_count": 54,
     "metadata": {},
     "output_type": "execute_result"
    }
   ],
   "source": [
    "ksentlen = len(ktoks)/len(ksents)\n",
    "ksentlen"
   ]
  },
  {
   "cell_type": "code",
   "execution_count": 55,
   "metadata": {},
   "outputs": [
    {
     "data": {
      "text/plain": [
       "[('the', 101), ('of', 97), ('.', 72), (',', 62), ('to', 58), ('and', 42), ('a', 36), ('be', 31), ('will', 27), ('that', 24)]"
      ]
     },
     "execution_count": 55,
     "metadata": {},
     "output_type": "execute_result"
    }
   ],
   "source": [
    "kfd = nltk.FreqDist(ktoks)\n",
    "kfd.most_common(10)"
   ]
  },
  {
   "cell_type": "markdown",
   "metadata": {},
   "source": [
    "### Summary: \"I Have a Dream\" \n",
    "- 1772 word tokens and 540 word types\n",
    "- TTR: 0.3047, much lower than Lincoln's, but text is longer\n",
    "- 81 sentences\n",
    "- Average sentence length: 21.88 words. MLK's sentences are much shorter than Lincoln's. \n",
    "- Top words include 'the', 'of', 'to', 'and', 'a', etc. \n",
    "\n",
    "NB: again, punctuation and symbols were included in the token count and the average sentence length. "
   ]
  },
  {
   "cell_type": "code",
   "execution_count": 56,
   "metadata": {},
   "outputs": [
    {
     "data": {
      "text/plain": [
       "[0.013544018058690745, 0.05699774266365688, 0.0327313769751693, 0.011851015801354402, 0.001693002257336343, 0.020316027088036117, 0.023702031602708805, 0.006207674943566591, 0.05474040632054176]"
      ]
     },
     "execution_count": 56,
     "metadata": {},
     "output_type": "execute_result"
    }
   ],
   "source": [
    "top_kfreq = [kfd.freq(w) for w in top_words]\n",
    "top_kfreq"
   ]
  },
  {
   "cell_type": "code",
   "execution_count": 57,
   "metadata": {},
   "outputs": [
    {
     "data": {
      "image/png": "[encoded data removed]",
      "text/plain": [
       "<Figure size 432x288 with 1 Axes>"
      ]
     },
     "metadata": {},
     "output_type": "display_data"
    }
   ],
   "source": [
    "# 'b-': blue line\n",
    "# build top_kfreq first! \n",
    "plt.plot(top_words, top_gfreq, 'b-', top_words, top_kfreq, 'g-')\n",
    "plt.title('word types and frequencies')\n",
    "plt.xlabel('Lincoln (blue) vs. King (green)') \n",
    "plt.ylabel('relative frequency')\n",
    "plt.show()"
   ]
  },
  {
   "cell_type": "code",
   "execution_count": null,
   "metadata": {},
   "outputs": [],
   "source": []
  }
 ],
 "metadata": {
  "kernelspec": {
   "display_name": "Python 3",
   "language": "python",
   "name": "python3"
  },
  "language_info": {
   "codemirror_mode": {
    "name": "ipython",
    "version": 3
   },
   "file_extension": ".py",
   "mimetype": "text/x-python",
   "name": "python",
   "nbconvert_exporter": "python",
   "pygments_lexer": "ipython3",
   "version": "3.6.5"
  }
 },
 "nbformat": 4,
 "nbformat_minor": 2
}
